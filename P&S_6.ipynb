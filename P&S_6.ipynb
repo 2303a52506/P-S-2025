{
  "nbformat": 4,
  "nbformat_minor": 0,
  "metadata": {
    "colab": {
      "provenance": [],
      "authorship_tag": "ABX9TyPyd5St9QsZl0TblMarC9hR",
      "include_colab_link": true
    },
    "kernelspec": {
      "name": "python3",
      "display_name": "Python 3"
    },
    "language_info": {
      "name": "python"
    }
  },
  "cells": [
    {
      "cell_type": "markdown",
      "metadata": {
        "id": "view-in-github",
        "colab_type": "text"
      },
      "source": [
        "<a href=\"https://colab.research.google.com/github/2303a52506/P-S-2025/blob/main/P%26S_6.ipynb\" target=\"_parent\"><img src=\"https://colab.research.google.com/assets/colab-badge.svg\" alt=\"Open In Colab\"/></a>"
      ]
    },
    {
      "cell_type": "code",
      "execution_count": 1,
      "metadata": {
        "id": "MsJnK22GhYWn"
      },
      "outputs": [],
      "source": [
        "import numpy as np\n",
        "import scipy.stats as stats\n",
        "data=[502,497,498,505,499,501,496,504,503,495,508,499,500,497,506,498,503,502,501,496,497,500,504,505,498,499,501,500,502]\n",
        "sample_mean=np.mean(data)\n",
        "sample_std=np.std(data,ddof=1)\n",
        "n=len(data)\n",
        "sample_variance=np.var(data,ddof=1)\n"
      ]
    },
    {
      "cell_type": "code",
      "source": [
        "confidence_level=0.95\n",
        "alpha=1-confidence_level\n",
        "t_critical=stats.t.ppf(1-alpha/2,n-1)"
      ],
      "metadata": {
        "id": "eJrEbQwYqaNE"
      },
      "execution_count": 2,
      "outputs": []
    },
    {
      "cell_type": "code",
      "source": [
        " margin_of_error=t_critical*(sample_std/np.sqrt(n))\n",
        " confidence_interval=[sample_mean-margin_of_error,sample_mean+margin_of_error]"
      ],
      "metadata": {
        "id": "gx0BF-NGqo3D"
      },
      "execution_count": 3,
      "outputs": []
    },
    {
      "cell_type": "code",
      "source": [
        " hypothesized_mean=500\n",
        " if hypothesized_mean>=confidence_interval [0] and hypothesized_mean<=confidence_interval[1]:\n",
        "  decision=\"Fail to reject H0:No significant difference from 500 grams\"\n",
        " else:\n",
        "  decision=\"Reject H0:Significant difference from 500 grams\""
      ],
      "metadata": {
        "id": "_JhXDXj7t_c7"
      },
      "execution_count": 4,
      "outputs": []
    },
    {
      "cell_type": "code",
      "source": [
        "print(f\"Sample Mean:{sample_mean:.2f}\")\n",
        "print(f\"Sample Standard Deviation:{sample_std:.2f}\")\n",
        "print(f\"Sample Variance:{sample_variance:.2f}\")\n",
        "print(f\" 95%Confidence Interval: {confidence_interval}\")\n",
        "print(f\"Hypothesis test Decision:,{decision}\")"
      ],
      "metadata": {
        "colab": {
          "base_uri": "https://localhost:8080/"
        },
        "id": "C4Brzp0ZwUZ0",
        "outputId": "855dcfda-874e-47aa-94c5-c5b222d39dde"
      },
      "execution_count": 5,
      "outputs": [
        {
          "output_type": "stream",
          "name": "stdout",
          "text": [
            "Sample Mean:500.55\n",
            "Sample Standard Deviation:3.30\n",
            "Sample Variance:10.90\n",
            " 95%Confidence Interval: [499.29595182631675, 501.80749644954534]\n",
            "Hypothesis test Decision:,Fail to reject H0:No significant difference from 500 grams\n"
          ]
        }
      ]
    },
    {
      "cell_type": "code",
      "source": [],
      "metadata": {
        "id": "VmzsMh02wUVD"
      },
      "execution_count": null,
      "outputs": []
    }
  ]
}