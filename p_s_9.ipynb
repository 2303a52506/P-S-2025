{
  "nbformat": 4,
  "nbformat_minor": 0,
  "metadata": {
    "colab": {
      "provenance": [],
      "authorship_tag": "ABX9TyO1JwahSyLbI29IwJ1YTJK5",
      "include_colab_link": true
    },
    "kernelspec": {
      "name": "python3",
      "display_name": "Python 3"
    },
    "language_info": {
      "name": "python"
    }
  },
  "cells": [
    {
      "cell_type": "markdown",
      "metadata": {
        "id": "view-in-github",
        "colab_type": "text"
      },
      "source": [
        "<a href=\"https://colab.research.google.com/github/2303a52506/P-S-2025/blob/main/p_s_9.ipynb\" target=\"_parent\"><img src=\"https://colab.research.google.com/assets/colab-badge.svg\" alt=\"Open In Colab\"/></a>"
      ]
    },
    {
      "cell_type": "code",
      "execution_count": null,
      "metadata": {
        "colab": {
          "base_uri": "https://localhost:8080/"
        },
        "id": "vpAzYFoDwT_o",
        "outputId": "cd1386ab-62d6-41b0-e797-207231a6542e"
      },
      "outputs": [
        {
          "output_type": "stream",
          "name": "stdout",
          "text": [
            "T-statistic: 1.8708286933869707\n",
            "P-value: 0.09417408579146237\n",
            "Fail to reject the null hypothesis: The sample mean is not significantly different from 75.\n"
          ]
        }
      ],
      "source": [
        "import numpy as np\n",
        "from scipy import stats\n",
        "#Sample data (exam scores)\n",
        "sample_scores = [80, 85, 90, 70, 60, 75, 85, 80, 95, 100]\n",
        "#Population mean\n",
        "population_mean = 75\n",
        "#Perform the one-sample t-test\n",
        "t_stat, p_value = stats.ttest_1samp(sample_scores, population_mean)\n",
        "#Print results\n",
        "print(f\"T-statistic: {t_stat}\")\n",
        "print(f\"P-value: {p_value}\")\n",
        "#Interpret the result\n",
        "alpha = 0.05 # significance level\n",
        "if p_value < alpha:\n",
        "    print(\"Reject the null hypothesis: The sample mean is significantly different from 75.\")\n",
        "else:\n",
        "    print(\"Fail to reject the null hypothesis: The sample mean is not significantly different from 75.\")"
      ]
    }
  ]
}